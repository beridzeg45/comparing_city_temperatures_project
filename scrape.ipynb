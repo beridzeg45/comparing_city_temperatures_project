{
 "cells": [
  {
   "cell_type": "code",
   "execution_count": 2,
   "metadata": {},
   "outputs": [],
   "source": [
    "from bs4 import BeautifulSoup\n",
    "import requests\n",
    "import time\n",
    "import datetime as dt \n",
    "import pandas as pd\n",
    "import matplotlib.pyplot as plt\n",
    "plt.style.use('ggplot')\n",
    "import geopandas\n",
    "\n",
    "import pickle\n",
    "import os\n",
    "\n",
    "headers = {'User-Agent': 'Mozilla/5.0 (Windows NT 10.0; Win64; x64) AppleWebKit/537.36 (KHTML, like Gecko) Chrome/58.0.3029.110 Safari/537.3'}"
   ]
  },
  {
   "cell_type": "code",
   "execution_count": null,
   "metadata": {},
   "outputs": [],
   "source": [
    "def get_countries():\n",
    "    countries_page='https://weatherspark.com/'\n",
    "    html=requests.get(countries_page,headers=headers).content\n",
    "    soup=BeautifulSoup(html,'html.parser')\n",
    "\n",
    "    countries_urls_dict={}\n",
    "    for i in soup.select('div[class=\"row\"] li a'):\n",
    "        country_name=i.text\n",
    "        country_url='https://weatherspark.com'+i['href']\n",
    "        if 'https://weatherspark.com/countries/US/GA' == str(country_url):\n",
    "            country_name='Georgia (USA State)'\n",
    "        elif 'https://weatherspark.com/countries/GE' == str(country_url):\n",
    "            country_name='Georgia'\n",
    "\n",
    "        countries_urls_dict[country_name]=country_url\n",
    "\n",
    "    return countries_urls_dict"
   ]
  },
  {
   "cell_type": "code",
   "execution_count": null,
   "metadata": {},
   "outputs": [],
   "source": [
    "countries_urls_dict=get_countries()"
   ]
  },
  {
   "cell_type": "code",
   "execution_count": null,
   "metadata": {},
   "outputs": [],
   "source": [
    "all_cities={}\n",
    "\n",
    "for index, (country_name, country_url) in enumerate(countries_urls_dict.items(),start=1):\n",
    "\n",
    "    country_page=country_url\n",
    "    html=requests.get(country_page,headers=headers).content\n",
    "    soup=BeautifulSoup(html,'html.parser')\n",
    "\n",
    "    cities_urls_dict={}\n",
    "    try:\n",
    "        for i in [i for i in soup.select('div[class=\"row\"] div[class=\"col-lg-12\"]') if 'Places' in i.text][-1].select('li a'):\n",
    "            city_name=f'{i.text} ({country_name})'\n",
    "            city_url='https://weatherspark.com'+i['href']\n",
    "\n",
    "            cities_urls_dict[city_name]=city_url\n",
    "    except:\n",
    "        continue\n",
    "    \n",
    "    all_cities.update(cities_urls_dict)\n",
    "\n",
    "    print(index,end='\\r')"
   ]
  },
  {
   "cell_type": "code",
   "execution_count": 3,
   "metadata": {},
   "outputs": [],
   "source": [
    "#pickle.dump(all_cities,open('all_cities.pickle','wb'))"
   ]
  },
  {
   "cell_type": "code",
   "execution_count": null,
   "metadata": {},
   "outputs": [],
   "source": [
    "#get city coordinates\n",
    "\n",
    "import geopy\n",
    "from geopy.geocoders import Nominatim\n",
    "from geopy.exc import GeocoderTimedOut, GeocoderServiceError\n",
    "\n",
    "def get_coordinates(city, country):\n",
    "    geolocator = Nominatim(user_agent=\"your_app_name\")\n",
    "    try:\n",
    "        location = geolocator.geocode(f\"{city}, {country}\")\n",
    "        if location:\n",
    "            return location.latitude, location.longitude\n",
    "        else:\n",
    "            return None, None\n",
    "    except GeocoderTimedOut:\n",
    "        print(\"Error: geocode timed out\")\n",
    "        return None, None\n",
    "    except GeocoderServiceError as e:\n",
    "        print(f\"Error: geocode failed with error {e}\")\n",
    "        return None, None\n",
    "\n",
    "\n",
    "city_coordinates={}\n",
    "for i,city in enumerate(all_cities,start=1):\n",
    "    city_name=city.split('(')[0].strip()\n",
    "    country_name=city.split('(')[-1].split(')')[0].strip()\n",
    "    latitude, longitude = get_coordinates(city_name, country_name)\n",
    "    city_coordinates[city]={'Lat':latitude,'Lon':longitude}\n",
    "\n",
    "    if i%10==0:\n",
    "        print(i,end='\\r')"
   ]
  },
  {
   "cell_type": "code",
   "execution_count": null,
   "metadata": {},
   "outputs": [],
   "source": [
    "#pickle.dump(city_coordinates,open('city_coordinates.pickle','wb'))"
   ]
  }
 ],
 "metadata": {
  "kernelspec": {
   "display_name": "Python 3",
   "language": "python",
   "name": "python3"
  },
  "language_info": {
   "codemirror_mode": {
    "name": "ipython",
    "version": 3
   },
   "file_extension": ".py",
   "mimetype": "text/x-python",
   "name": "python",
   "nbconvert_exporter": "python",
   "pygments_lexer": "ipython3",
   "version": "3.12.4"
  }
 },
 "nbformat": 4,
 "nbformat_minor": 2
}
